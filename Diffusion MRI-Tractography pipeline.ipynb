{
 "cells": [
  {
   "cell_type": "markdown",
   "id": "58aec6c4-6e76-4d0a-9055-32efb3422f29",
   "metadata": {},
   "source": [
    "# Diffusion MRI - Tractography pipeline"
   ]
  },
  {
   "cell_type": "markdown",
   "id": "ac6a3daf-b66a-44d7-b67a-ece667182b43",
   "metadata": {},
   "source": [
    "To generate the fibre tracts of your brain, follow the step by step instructions below.  "
   ]
  },
  {
   "cell_type": "markdown",
   "id": "68dd3c44-7b17-459e-af55-8406d2b48989",
   "metadata": {},
   "source": [
    "### STEP 0\n",
    "\n",
    "Move to a different folder and make a local copy of the input data there"
   ]
  },
  {
   "cell_type": "code",
   "execution_count": null,
   "id": "563d95ab-b389-4c87-b0e7-74746d9e5452",
   "metadata": {},
   "outputs": [],
   "source": [
    "%mkdir -p dwi\n",
    "%cd dwi"
   ]
  },
  {
   "cell_type": "code",
   "execution_count": null,
   "id": "e2dd89a4-cab5-4b12-8fe3-d5bc53d1f340",
   "metadata": {},
   "outputs": [],
   "source": [
    "%%bash\n",
    "cp /nesi/nobackup/uoa03264/Workshop/dwi/dwi* ./"
   ]
  },
  {
   "cell_type": "markdown",
   "id": "8dbd8bcc-3cc0-4367-9f61-4b79735c17ed",
   "metadata": {},
   "source": [
    "### STEP 1 \n",
    "\n",
    "Extract the first diffusion image from the whole volume"
   ]
  },
  {
   "cell_type": "code",
   "execution_count": null,
   "id": "db8123af-4f67-4aae-b0b3-f2cb03d79689",
   "metadata": {},
   "outputs": [],
   "source": [
    "%%bash\n",
    "fslroi dwi.nii nodif 0 1"
   ]
  },
  {
   "cell_type": "markdown",
   "id": "420d696d-e840-4a53-b373-ba9663bd6e31",
   "metadata": {},
   "source": [
    "### STEP 2 \n",
    "Strip the skull and extract the brain"
   ]
  },
  {
   "cell_type": "code",
   "execution_count": null,
   "id": "0a5a96d4-5896-4d01-8ccc-65b845feb891",
   "metadata": {},
   "outputs": [],
   "source": [
    "%%bash\n",
    "bet nodif nodif_brain -m"
   ]
  },
  {
   "cell_type": "markdown",
   "id": "a49f89b2-0bb9-4a8e-82a5-504e1e864653",
   "metadata": {},
   "source": [
    "### STEP 3 \n",
    "Convert dwi scan from nifti format to mif format"
   ]
  },
  {
   "cell_type": "code",
   "execution_count": null,
   "id": "d5b06b58-62c0-48b7-9397-e35d09639be6",
   "metadata": {},
   "outputs": [],
   "source": [
    "%%bash\n",
    "mrconvert dwi.nii.gz -fslgrad dwi.bvec dwi.bval dwi.mif\n",
    "mrconvert nodif.nii.gz nodif.mif"
   ]
  },
  {
   "cell_type": "markdown",
   "id": "6059b18c-c1a1-404d-b170-151f7b297702",
   "metadata": {},
   "source": [
    "### STEP 4 \n",
    "Convert mask from nifti format to mif format"
   ]
  },
  {
   "cell_type": "code",
   "execution_count": null,
   "id": "78b1e3f5-8585-42ec-88e0-b8c440d1414b",
   "metadata": {},
   "outputs": [],
   "source": [
    "%%bash\n",
    "mrconvert nodif_brain_mask.nii.gz mask.mif"
   ]
  },
  {
   "cell_type": "markdown",
   "id": "2f50a758-a974-44ef-a29c-483b9f5fb74f",
   "metadata": {},
   "source": [
    "### STEP 5\n",
    "Generate whole brain tractography"
   ]
  },
  {
   "cell_type": "code",
   "execution_count": null,
   "id": "5b0bf2fc-a883-48e4-9306-46f8ecfdaa14",
   "metadata": {},
   "outputs": [],
   "source": [
    "%%bash\n",
    "dwi2response dhollander dwi.mif wm.txt gm.txt csf.txt"
   ]
  },
  {
   "cell_type": "code",
   "execution_count": null,
   "id": "888a6703-b916-4e9a-9432-21a249f8005a",
   "metadata": {},
   "outputs": [],
   "source": [
    "%%time\n",
    "%%bash\n",
    "dwi2fod msmt_csd dwi.mif wm.txt fod_wm.mif gm.txt gm.mif csf.txt csf.mif -mask mask.mif"
   ]
  },
  {
   "cell_type": "code",
   "execution_count": null,
   "id": "2bd19824-0518-429c-af08-137adfdbc5b4",
   "metadata": {},
   "outputs": [],
   "source": [
    "%%time\n",
    "%%bash\n",
    "tckgen fod_wm.mif Whole_brain_10K.tck \\\n",
    "    -seed_image mask.mif \\\n",
    "    -mask mask.mif \\\n",
    "    -select 10000 \\\n",
    "    -cutoff 0.15 \\\n",
    "    -info"
   ]
  },
  {
   "cell_type": "markdown",
   "id": "f9527a91-f048-4a47-ad3a-e3144da7fe4a",
   "metadata": {},
   "source": [
    "### STEP 6 \n",
    "Visualise the Fibre orientation data"
   ]
  },
  {
   "cell_type": "code",
   "execution_count": null,
   "id": "72ffbe1b-f610-45b6-9244-e164122542d6",
   "metadata": {},
   "outputs": [],
   "source": [
    "%%bash\n",
    "mrview nodif.mif -odf.load_sh fod_wm.mif"
   ]
  },
  {
   "cell_type": "markdown",
   "id": "cfa1d94c-cd0b-4cc6-af84-3fac65cf5d28",
   "metadata": {},
   "source": [
    "### STEP 7\n",
    "Visualise the whole brain fibre tracts"
   ]
  },
  {
   "cell_type": "code",
   "execution_count": null,
   "id": "af91e05a-d416-4702-bf94-17c0a669dbe1",
   "metadata": {},
   "outputs": [],
   "source": [
    "%%bash\n",
    "mrview nodif.mif -tractography.load Whole_brain_1M.tck"
   ]
  }
 ],
 "metadata": {
  "kernelspec": {
   "display_name": "matai_training_2023",
   "language": "python",
   "name": "matai_training_2023"
  },
  "language_info": {
   "codemirror_mode": {
    "name": "ipython",
    "version": 3
   },
   "file_extension": ".py",
   "mimetype": "text/x-python",
   "name": "python",
   "nbconvert_exporter": "python",
   "pygments_lexer": "ipython3",
   "version": "3.11.6"
  }
 },
 "nbformat": 4,
 "nbformat_minor": 5
}
